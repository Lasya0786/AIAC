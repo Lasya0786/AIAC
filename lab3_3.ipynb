{
  "nbformat": 4,
  "nbformat_minor": 0,
  "metadata": {
    "colab": {
      "provenance": [],
      "authorship_tag": "ABX9TyMdM+xRLvUUem8heVR/1fQj",
      "include_colab_link": true
    },
    "kernelspec": {
      "name": "python3",
      "display_name": "Python 3"
    },
    "language_info": {
      "name": "python"
    }
  },
  "cells": [
    {
      "cell_type": "markdown",
      "metadata": {
        "id": "view-in-github",
        "colab_type": "text"
      },
      "source": [
        "<a href=\"https://colab.research.google.com/github/Lasya0786/AIAC/blob/main/lab3_3.ipynb\" target=\"_parent\"><img src=\"https://colab.research.google.com/assets/colab-badge.svg\" alt=\"Open In Colab\"/></a>"
      ]
    },
    {
      "cell_type": "markdown",
      "source": [
        "Task1:Try 3 different prompts to generate a factorial function.\n",
        "\n",
        "Prompt1:write a python function that caluculate the factorial of a non negative integer using recursion.\n",
        "\n",
        "prompt2:write a python function that computes the factorial of a given number using a for loop.\n",
        "\n",
        "prompt3:write a python function to implement factorial using lambda and method functions"
      ],
      "metadata": {
        "id": "O2GeYAZ-HHpM"
      }
    },
    {
      "cell_type": "code",
      "source": [
        "def factorial_recursive(n):\n",
        "  \"\"\"\n",
        "  Calculates the factorial of a non-negative integer using recursion.\n",
        "\n",
        "  Args:\n",
        "    n: A non-negative integer.\n",
        "\n",
        "  Returns:\n",
        "    The factorial of n.\n",
        "  \"\"\"\n",
        "  if n == 0:\n",
        "    return 1\n",
        "  else:\n",
        "    return n * factorial_recursive(n-1)\n",
        "\n",
        "# Example usage:\n",
        "print(factorial_recursive(5))"
      ],
      "metadata": {
        "colab": {
          "base_uri": "https://localhost:8080/"
        },
        "id": "ovH7DRc1JEke",
        "outputId": "e842a6d2-9d30-4a91-8c2f-9041e4030b47"
      },
      "execution_count": 4,
      "outputs": [
        {
          "output_type": "stream",
          "name": "stdout",
          "text": [
            "120\n"
          ]
        }
      ]
    },
    {
      "cell_type": "code",
      "source": [
        "def factorial_loop(n):\n",
        "  \"\"\"\n",
        "  Calculates the factorial of a non-negative integer using a for loop.\n",
        "\n",
        "  Args:\n",
        "    n: A non-negative integer.\n",
        "\n",
        "  Returns:\n",
        "    The factorial of n.\n",
        "  \"\"\"\n",
        "  if n < 0:\n",
        "    return \"Factorial is not defined for negative numbers\"\n",
        "  elif n == 0:\n",
        "    return 1\n",
        "  else:\n",
        "    result = 1\n",
        "    for i in range(1, n + 1):\n",
        "      result *= i\n",
        "    return result\n",
        "\n",
        "# Example usage:\n",
        "print(factorial_loop(5))"
      ],
      "metadata": {
        "colab": {
          "base_uri": "https://localhost:8080/"
        },
        "id": "hY6CDZ3OJ0K7",
        "outputId": "6a0e98ac-3c7c-4b8c-c0d6-70d64270cbc6"
      },
      "execution_count": 6,
      "outputs": [
        {
          "output_type": "stream",
          "name": "stdout",
          "text": [
            "120\n"
          ]
        }
      ]
    },
    {
      "cell_type": "code",
      "source": [
        "from functools import reduce\n",
        "\n",
        "def factorial_lambda(n):\n",
        "  \"\"\"\n",
        "  Calculates the factorial of a non-negative integer using lambda and reduce.\n",
        "\n",
        "  Args:\n",
        "    n: A non-negative integer.\n",
        "\n",
        "  Returns:\n",
        "    The factorial of n.\n",
        "  \"\"\"\n",
        "  if n < 0:\n",
        "    return \"Factorial is not defined for negative numbers\"\n",
        "  elif n == 0:\n",
        "    return 1\n",
        "  else:\n",
        "    return reduce(lambda x, y: x * y, range(1, n + 1))\n",
        "\n",
        "# Example usage:\n",
        "print(factorial_lambda(5))"
      ],
      "metadata": {
        "colab": {
          "base_uri": "https://localhost:8080/"
        },
        "id": "rhhdTnw0KHoS",
        "outputId": "d1e87c0f-be6e-4613-8a36-7e2a6987443f"
      },
      "execution_count": 9,
      "outputs": [
        {
          "output_type": "stream",
          "name": "stdout",
          "text": [
            "120\n"
          ]
        }
      ]
    },
    {
      "cell_type": "markdown",
      "source": [
        "Exaplanation:\n",
        "This code defines a recursive function factorial_recursive(n) to calculate the factorial of n. It has a base case where factorial_recursive(0) returns 1. For n > 0, it returns n multiplied by the result of calling itself with n-1. The example usage print(factorial_recursive(5)) calculates and prints the factorial of 5.\n",
        "for code 2:\n",
        "This code defines a function factorial_loop(n) to calculate the factorial using a for loop. It handles negative input and the base case of 0. For positive n, it iterates from 1 to n, multiplying a result variable in each step to compute the factorial.\n",
        "for code 3:\n",
        "This code calculates the factorial using reduce and a lambda function. It handles negative numbers and the base case of 0. For positive n, it uses reduce with a lambda function that multiplies elements to compute the product of numbers from 1 to n.\n",
        "\n",
        "\n",
        "\n"
      ],
      "metadata": {
        "id": "G9hUvGrcMUmL"
      }
    },
    {
      "cell_type": "markdown",
      "source": [
        "Task2:Provide a clear example input-output prompt to generate a sorting function.\n",
        "\n",
        "Prompt:input-"
      ],
      "metadata": {
        "id": "hUfyaoslK6eM"
      }
    }
  ]
}