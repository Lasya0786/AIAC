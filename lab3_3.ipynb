{
  "nbformat": 4,
  "nbformat_minor": 0,
  "metadata": {
    "colab": {
      "provenance": [],
      "authorship_tag": "ABX9TyPKc2bL9HS6Gjhc6BvTAKbI",
      "include_colab_link": true
    },
    "kernelspec": {
      "name": "python3",
      "display_name": "Python 3"
    },
    "language_info": {
      "name": "python"
    }
  },
  "cells": [
    {
      "cell_type": "markdown",
      "metadata": {
        "id": "view-in-github",
        "colab_type": "text"
      },
      "source": [
        "<a href=\"https://colab.research.google.com/github/Lasya0786/AIAC/blob/main/lab3_3.ipynb\" target=\"_parent\"><img src=\"https://colab.research.google.com/assets/colab-badge.svg\" alt=\"Open In Colab\"/></a>"
      ]
    },
    {
      "cell_type": "markdown",
      "source": [
        "Task1:Try 3 different prompts to generate a factorial function.\n",
        "\n",
        "Prompt1:write a python function that caluculate the factorial of a non negative integer using recursion.\n",
        "\n",
        "prompt2:write a python function that computes the factorial of a given number using a for loop.\n",
        "\n",
        "prompt3:write a python function to implement factorial using lambda and method functions"
      ],
      "metadata": {
        "id": "O2GeYAZ-HHpM"
      }
    },
    {
      "cell_type": "code",
      "source": [
        "def factorial_recursive(n):\n",
        "  \"\"\"\n",
        "  Calculates the factorial of a non-negative integer using recursion.\n",
        "\n",
        "  Args:\n",
        "    n: A non-negative integer.\n",
        "\n",
        "  Returns:\n",
        "    The factorial of n.\n",
        "  \"\"\"\n",
        "  if n == 0:\n",
        "    return 1\n",
        "  else:\n",
        "    return n * factorial_recursive(n-1)\n",
        "\n",
        "# Example usage:\n",
        "print(factorial_recursive(5))"
      ],
      "metadata": {
        "colab": {
          "base_uri": "https://localhost:8080/"
        },
        "id": "ovH7DRc1JEke",
        "outputId": "e842a6d2-9d30-4a91-8c2f-9041e4030b47"
      },
      "execution_count": 4,
      "outputs": [
        {
          "output_type": "stream",
          "name": "stdout",
          "text": [
            "120\n"
          ]
        }
      ]
    },
    {
      "cell_type": "code",
      "source": [
        "def factorial_loop(n):\n",
        "  \"\"\"\n",
        "  Calculates the factorial of a non-negative integer using a for loop.\n",
        "\n",
        "  Args:\n",
        "    n: A non-negative integer.\n",
        "\n",
        "  Returns:\n",
        "    The factorial of n.\n",
        "  \"\"\"\n",
        "  if n < 0:\n",
        "    return \"Factorial is not defined for negative numbers\"\n",
        "  elif n == 0:\n",
        "    return 1\n",
        "  else:\n",
        "    result = 1\n",
        "    for i in range(1, n + 1):\n",
        "      result *= i\n",
        "    return result\n",
        "\n",
        "# Example usage:\n",
        "print(factorial_loop(5))"
      ],
      "metadata": {
        "colab": {
          "base_uri": "https://localhost:8080/"
        },
        "id": "hY6CDZ3OJ0K7",
        "outputId": "6a0e98ac-3c7c-4b8c-c0d6-70d64270cbc6"
      },
      "execution_count": 6,
      "outputs": [
        {
          "output_type": "stream",
          "name": "stdout",
          "text": [
            "120\n"
          ]
        }
      ]
    },
    {
      "cell_type": "code",
      "source": [
        "from functools import reduce\n",
        "\n",
        "def factorial_lambda(n):\n",
        "  \"\"\"\n",
        "  Calculates the factorial of a non-negative integer using lambda and reduce.\n",
        "\n",
        "  Args:\n",
        "    n: A non-negative integer.\n",
        "\n",
        "  Returns:\n",
        "    The factorial of n.\n",
        "  \"\"\"\n",
        "  if n < 0:\n",
        "    return \"Factorial is not defined for negative numbers\"\n",
        "  elif n == 0:\n",
        "    return 1\n",
        "  else:\n",
        "    return reduce(lambda x, y: x * y, range(1, n + 1))\n",
        "\n",
        "# Example usage:\n",
        "print(factorial_lambda(5))"
      ],
      "metadata": {
        "colab": {
          "base_uri": "https://localhost:8080/"
        },
        "id": "rhhdTnw0KHoS",
        "outputId": "d1e87c0f-be6e-4613-8a36-7e2a6987443f"
      },
      "execution_count": 9,
      "outputs": [
        {
          "output_type": "stream",
          "name": "stdout",
          "text": [
            "120\n"
          ]
        }
      ]
    },
    {
      "cell_type": "markdown",
      "source": [
        "Exaplanation:\n",
        "This code defines a recursive function factorial_recursive(n) to calculate the factorial of n. It has a base case where factorial_recursive(0) returns 1. For n > 0, it returns n multiplied by the result of calling itself with n-1. The example usage print(factorial_recursive(5)) calculates and prints the factorial of 5.\n",
        "for code 2:\n",
        "This code defines a function factorial_loop(n) to calculate the factorial using a for loop. It handles negative input and the base case of 0. For positive n, it iterates from 1 to n, multiplying a result variable in each step to compute the factorial.\n",
        "for code 3:\n",
        "This code calculates the factorial using reduce and a lambda function. It handles negative numbers and the base case of 0. For positive n, it uses reduce with a lambda function that multiplies elements to compute the product of numbers from 1 to n.\n",
        "\n",
        "\n",
        "\n"
      ],
      "metadata": {
        "id": "G9hUvGrcMUmL"
      }
    },
    {
      "cell_type": "markdown",
      "source": [
        "Task2:Provide a clear example input-output prompt to generate a sorting function.\n",
        "\n",
        "Prompt:input-write a python code that generates the sorting function only.\n",
        " output-write a python code to generate output of sorting function."
      ],
      "metadata": {
        "id": "hUfyaoslK6eM"
      }
    },
    {
      "cell_type": "code",
      "source": [
        "# input-write a python code that generates the sorting function only.\n",
        "def sort_list(data):\n",
        "  \"\"\"\n",
        "  Sorts a list in ascending order using the built-in sorted function.\n",
        "\n",
        "  Args:\n",
        "    data: A list.\n",
        "\n",
        "  Returns:\n",
        "    A new list containing the sorted elements.\n",
        "  \"\"\"\n",
        "  return sorted(data)\n",
        "\n",
        "# output-write a python code to generate output of sorting function.\n",
        "my_list = [3, 1, 4, 1, 5, 9, 2, 6]\n",
        "sorted_list = sort_list(my_list)\n",
        "print(sorted_list)"
      ],
      "metadata": {
        "colab": {
          "base_uri": "https://localhost:8080/"
        },
        "id": "crvD7LYBPE-G",
        "outputId": "b05c90b2-52c9-4832-d3eb-aa29eb3db0fd"
      },
      "execution_count": 10,
      "outputs": [
        {
          "output_type": "stream",
          "name": "stdout",
          "text": [
            "[1, 1, 2, 3, 4, 5, 6, 9]\n"
          ]
        }
      ]
    },
    {
      "cell_type": "markdown",
      "source": [
        "Explanation:\n",
        "This code snippet contains a Python function called sort_list and an example of how to use it to sort a list.\n",
        "\n",
        "Here's a breakdown:\n",
        "\n",
        "def sort_list(data):: This line defines a function named sort_list that takes one argument, data, which is expected to be a list.\n",
        "Docstring: The triple-quoted string explains what the function does (sorts a list), its arguments (Args), and what it returns (Returns).\n",
        "return sorted(data): This is the core of the sort_list function. It uses Python's built-in sorted() function to create a new sorted list from the input data and returns this new list. The sorted() function sorts the elements in ascending order by default.\n",
        "my_list = [3, 1, 4, 1, 5, 9, 2, 6]: This line creates a list named my_list with some integer values.\n",
        "sorted_list = sort_list(my_list): This line calls the sort_list function with my_list as the input and assigns the returned sorted list to a new variable called sorted_list.\n",
        "print(sorted_list): This line prints the contents of the sorted_list, which will be the sorted version of my_list.\n",
        "In summary, the code defines a simple function to sort a list using the built-in sorted() function and then demonstrates its usage with an example list."
      ],
      "metadata": {
        "id": "utv4bMCwPWTM"
      }
    },
    {
      "cell_type": "markdown",
      "source": [
        "Task3:Start with the vague prompt “Generate python code to calculate power bill” and improve it step-by-step\n",
        "\n",
        "prompt:write a python code to calculate the power bill and improve it step-by-step."
      ],
      "metadata": {
        "id": "MuFdXRVmPnX1"
      }
    },
    {
      "cell_type": "code",
      "source": [
        "def calculate_power_bill_basic(consumption_kwh, rate_per_kwh):\n",
        "  \"\"\"\n",
        "  Calculates a basic power bill based on consumption and a fixed rate.\n",
        "\n",
        "  Args:\n",
        "    consumption_kwh: Energy consumption in kilowatt-hours (kWh).\n",
        "    rate_per_kwh: The fixed rate per kWh.\n",
        "\n",
        "  Returns:\n",
        "    The calculated power bill.\n",
        "  \"\"\"\n",
        "  return consumption_kwh * rate_per_kwh\n",
        "\n",
        " #Example usage:\n",
        "consumption = 150  # kWh\n",
        "rate = 0.12      # $/kWh\n",
        "bill = calculate_power_bill_basic(consumption, rate)\n",
        "print(f\"Basic power bill: ${bill:.2f}\")"
      ],
      "metadata": {
        "colab": {
          "base_uri": "https://localhost:8080/"
        },
        "id": "nwsqHdFmRGRo",
        "outputId": "f32f31b6-c750-4c2f-c24e-912a0a7f5472"
      },
      "execution_count": 12,
      "outputs": [
        {
          "output_type": "stream",
          "name": "stdout",
          "text": [
            "Basic power bill: $18.00\n"
          ]
        }
      ]
    },
    {
      "cell_type": "markdown",
      "source": [
        "Explanation:This code defines a basic function calculate_power_bill_basic that calculates a power bill by multiplying consumption_kwh by rate_per_kwh. It also includes an example to show how to use the function and print the bill."
      ],
      "metadata": {
        "id": "4qpIaU3kS6Ty"
      }
    },
    {
      "cell_type": "code",
      "source": [],
      "metadata": {
        "id": "2Y9gjz7RTHY2"
      },
      "execution_count": null,
      "outputs": []
    }
  ]
}