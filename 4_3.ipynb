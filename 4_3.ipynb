{
  "nbformat": 4,
  "nbformat_minor": 0,
  "metadata": {
    "colab": {
      "provenance": [],
      "authorship_tag": "ABX9TyNgFHZpBAr5IxwzuchjV30O",
      "include_colab_link": true
    },
    "kernelspec": {
      "name": "python3",
      "display_name": "Python 3"
    },
    "language_info": {
      "name": "python"
    }
  },
  "cells": [
    {
      "cell_type": "markdown",
      "metadata": {
        "id": "view-in-github",
        "colab_type": "text"
      },
      "source": [
        "<a href=\"https://colab.research.google.com/github/Lasya0786/AIAC/blob/main/4_3.ipynb\" target=\"_parent\"><img src=\"https://colab.research.google.com/assets/colab-badge.svg\" alt=\"Open In Colab\"/></a>"
      ]
    },
    {
      "cell_type": "markdown",
      "source": [
        "Task1:Zero-shot: Prompt AI to write a function that checks whether a given year is a leap year.\n",
        "\n",
        "prompt:write a python function to check whether a given year is leap year in zero shot."
      ],
      "metadata": {
        "id": "T8kcp8OsDODg"
      }
    },
    {
      "cell_type": "code",
      "source": [
        "def is_leap_year(year):\n",
        "  \"\"\"Checks if a given year is a leap year.\"\"\"\n",
        "  if (year % 4 == 0 and year % 100 != 0) or (year % 400 == 0):\n",
        "    return True\n",
        "  else:\n",
        "    return False\n",
        "\n",
        "# Example usage:\n",
        "year = 2024\n",
        "if is_leap_year(year):\n",
        "  print(f\"{year} is a leap year.\")\n",
        "else:\n",
        "  print(f\"{year} is not a leap year.\")"
      ],
      "metadata": {
        "colab": {
          "base_uri": "https://localhost:8080/"
        },
        "id": "J7IYdPb4D5C4",
        "outputId": "3b1dda47-b2c5-438a-ae6d-a2c043f1aff8"
      },
      "execution_count": 2,
      "outputs": [
        {
          "output_type": "stream",
          "name": "stdout",
          "text": [
            "2024 is a leap year.\n"
          ]
        }
      ]
    },
    {
      "cell_type": "markdown",
      "source": [
        "Task2:One-shot: Give one input-output example to guide AI in writing a function that converts centimeters to inches.\n",
        "\n",
        "Prompt:write a python code to convert centimeters into inches in one shot."
      ],
      "metadata": {
        "id": "skQPbjJuExPc"
      }
    },
    {
      "cell_type": "code",
      "source": [
        "def cm_to_inches(cm):\n",
        "  \"\"\"Converts centimeters to inches.\"\"\"\n",
        "  return cm * 0.393701\n",
        "\n",
        "# Example usage:\n",
        "centimeters = 10\n",
        "inches = cm_to_inches(centimeters)\n",
        "print(f\"{centimeters} centimeters is equal to {inches:.2f} inches.\")"
      ],
      "metadata": {
        "colab": {
          "base_uri": "https://localhost:8080/"
        },
        "id": "Jr_gBs__FRuW",
        "outputId": "27532bee-fe7c-4792-8652-074d08992cc3"
      },
      "execution_count": 4,
      "outputs": [
        {
          "output_type": "stream",
          "name": "stdout",
          "text": [
            "10 centimeters is equal to 3.94 inches.\n"
          ]
        }
      ]
    },
    {
      "cell_type": "markdown",
      "source": [
        "Task3:Few-shot: Provide 2–3 examples to generate a function that formats full names as “Last, First”.\n",
        "\n",
        "Prompt:write a python code to generate a function that formats full names as \"Last,First\" with few examples."
      ],
      "metadata": {
        "id": "pVaEtu_4Foav"
      }
    },
    {
      "cell_type": "code",
      "source": [
        "def format_name(full_name):\n",
        "  \"\"\"Formats a full name as 'Last, First'.\"\"\"\n",
        "  names = full_name.split()\n",
        "  if len(names) > 1:\n",
        "    return f\"{names[-1]}, {' '.join(names[:-1])}\"\n",
        "  else:\n",
        "    return full_name\n",
        "\n",
        "# Example usage:\n",
        "name1 = \"John Doe\"\n",
        "name2 = \"Jane Smith\"\n",
        "name3 = \"Peter Pan\"\n",
        "\n",
        "print(f\"'{name1}' formatted is: '{format_name(name1)}'\")\n",
        "print(f\"'{name2}' formatted is: '{format_name(name2)}'\")\n",
        "print(f\"'{name3}' formatted is: '{format_name(name3)}'\")"
      ],
      "metadata": {
        "colab": {
          "base_uri": "https://localhost:8080/"
        },
        "id": "v7k5YfCIGPvY",
        "outputId": "9c6aa11e-447a-45b5-9458-719f470079b8"
      },
      "execution_count": 6,
      "outputs": [
        {
          "output_type": "stream",
          "name": "stdout",
          "text": [
            "'John Doe' formatted is: 'Doe, John'\n",
            "'Jane Smith' formatted is: 'Smith, Jane'\n",
            "'Peter Pan' formatted is: 'Pan, Peter'\n"
          ]
        }
      ]
    },
    {
      "cell_type": "markdown",
      "source": [
        "Task4:Compare zero-shot and few-shot prompts for writing a function that counts the number of vowels in a string.\n",
        "\n",
        "Prompt1:write a python function that counts number of vowels in a string in one shot.\n",
        "prompt2:wite a python function that counts the number of vowels in a string in few shots."
      ],
      "metadata": {
        "id": "cp2H60FuGfbX"
      }
    },
    {
      "cell_type": "code",
      "source": [
        "def count_vowels(text):\n",
        "  \"\"\"Counts the number of vowels in a string.\"\"\"\n",
        "  vowels = \"aeiouAEIOU\"\n",
        "  vowel_count = 0\n",
        "  for char in text:\n",
        "    if char in vowels:\n",
        "      vowel_count += 1\n",
        "  return vowel_count\n",
        "\n",
        "# Example usage:\n",
        "text = \"Hello World\"\n",
        "print(f\"The number of vowels in '{text}' is: {count_vowels(text)}\")"
      ],
      "metadata": {
        "colab": {
          "base_uri": "https://localhost:8080/"
        },
        "id": "qncQpKI1HLpv",
        "outputId": "ccc7bb91-512e-4d26-df84-3d462191cdf5"
      },
      "execution_count": 7,
      "outputs": [
        {
          "output_type": "stream",
          "name": "stdout",
          "text": [
            "The number of vowels in 'Hello World' is: 3\n"
          ]
        }
      ]
    },
    {
      "cell_type": "code",
      "source": [
        "def count_vowels_few_shot(text):\n",
        "  \"\"\"Counts the number of vowels in a string.\"\"\"\n",
        "  vowels = \"aeiouAEIOU\"\n",
        "  vowel_count = 0\n",
        "  for char in text:\n",
        "    if char in vowels:\n",
        "      vowel_count += 1\n",
        "  return vowel_count\n",
        "\n",
        "# Example usage with a few shots:\n",
        "print(f\"Vowels in 'apple': {count_vowels_few_shot('apple')}\")\n",
        "print(f\"Vowels in 'banana': {count_vowels_few_shot('banana')}\")\n",
        "print(f\"Vowels in 'cherry': {count_vowels_few_shot('cherry')}\")"
      ],
      "metadata": {
        "colab": {
          "base_uri": "https://localhost:8080/"
        },
        "id": "3P_UiZYbHTZF",
        "outputId": "02cb8476-0712-443f-9bc3-a0db61fda201"
      },
      "execution_count": 9,
      "outputs": [
        {
          "output_type": "stream",
          "name": "stdout",
          "text": [
            "Vowels in 'apple': 2\n",
            "Vowels in 'banana': 3\n",
            "Vowels in 'cherry': 1\n"
          ]
        }
      ]
    },
    {
      "cell_type": "code",
      "source": [],
      "metadata": {
        "id": "Hyg_emKbHqIQ"
      },
      "execution_count": null,
      "outputs": []
    }
  ]
}