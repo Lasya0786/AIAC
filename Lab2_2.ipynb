{
  "nbformat": 4,
  "nbformat_minor": 0,
  "metadata": {
    "colab": {
      "provenance": [],
      "authorship_tag": "ABX9TyMX2xwZSQSHkOpKLYkBYUgS",
      "include_colab_link": true
    },
    "kernelspec": {
      "name": "python3",
      "display_name": "Python 3"
    },
    "language_info": {
      "name": "python"
    }
  },
  "cells": [
    {
      "cell_type": "markdown",
      "metadata": {
        "id": "view-in-github",
        "colab_type": "text"
      },
      "source": [
        "<a href=\"https://colab.research.google.com/github/Lasya0786/AIAC/blob/main/Lab2_2.ipynb\" target=\"_parent\"><img src=\"https://colab.research.google.com/assets/colab-badge.svg\" alt=\"Open In Colab\"/></a>"
      ]
    },
    {
      "cell_type": "markdown",
      "source": [
        "Task0: Build Python function to check the given number is prime or not\n",
        "\n",
        "prompt: Write python function to check the given number is prime or not"
      ],
      "metadata": {
        "id": "ACMjjqYrsTQK"
      }
    },
    {
      "cell_type": "code",
      "source": [
        "def is_prime(number):\n",
        "    \"\"\"\n",
        "    Checks if a given number is prime.\n",
        "\n",
        "    Args:\n",
        "        number: An integer.\n",
        "\n",
        "    Returns:\n",
        "        True if the number is prime, False otherwise.\n",
        "    \"\"\"\n",
        "    if number <= 1:\n",
        "        return False\n",
        "    for i in range(2, int(number**0.5) + 1):\n",
        "        if number % i == 0:\n",
        "            return False\n",
        "    return True\n",
        "\n",
        "# Example usage:\n",
        "print(is_prime(11))\n",
        "print(is_prime(4))"
      ],
      "metadata": {
        "colab": {
          "base_uri": "https://localhost:8080/"
        },
        "id": "tOBtHAkgsmpG",
        "outputId": "8b72b29a-0b3d-4077-e951-8ca27c6b0160"
      },
      "execution_count": 1,
      "outputs": [
        {
          "output_type": "stream",
          "name": "stdout",
          "text": [
            "True\n",
            "False\n"
          ]
        }
      ]
    },
    {
      "cell_type": "markdown",
      "source": [
        "\n",
        "for i in range(2, int(number**0.5) + 1):\n",
        "        if number % i == 0:\n",
        "            return False\n",
        "    return True\n",
        "    \n",
        "This part of the code iterates through numbers starting from 2 up to the square root of the input number. It checks if the number is divisible by any of these numbers. If it finds a divisor, it means the number is not prime, and the function returns False. If the loop finishes without finding any divisors, it means the number is prime, and the function returns True."
      ],
      "metadata": {
        "id": "bAejws8DuVkm"
      }
    },
    {
      "cell_type": "markdown",
      "source": [
        "Task1:Write a function that filters out all negative numbers from a given list\n",
        "\n",
        "Prompt: write a python code to filter all negative numbers form a list"
      ],
      "metadata": {
        "id": "Kv9iElhgzGzR"
      }
    },
    {
      "cell_type": "markdown",
      "source": [],
      "metadata": {
        "id": "hza0vqRb0Yav"
      }
    },
    {
      "cell_type": "markdown",
      "source": [],
      "metadata": {
        "id": "esQfUe5H0Do4"
      }
    },
    {
      "cell_type": "code",
      "source": [
        "def filter_negative_numbers(numbers):\n",
        "  \"\"\"\n",
        "  Filters out negative numbers from a list.\n",
        "\n",
        "  Args:\n",
        "    numbers: A list of numbers.\n",
        "\n",
        "  Returns:\n",
        "    A new list containing only the non-negative numbers from the input list.\n",
        "  \"\"\"\n",
        "  return [number for number in numbers if number >= 0]\n",
        "\n",
        "# Example usage:\n",
        "my_list = [1, -2, 3, -4, 5, 0, -6]\n",
        "filtered_list = filter_negative_numbers(my_list)\n",
        "print(filtered_list)"
      ],
      "metadata": {
        "colab": {
          "base_uri": "https://localhost:8080/"
        },
        "id": "YkKHUuj3znpG",
        "outputId": "2bfc2b7f-8177-4394-f127-8dfa5209a32d"
      },
      "execution_count": 3,
      "outputs": [
        {
          "output_type": "stream",
          "name": "stdout",
          "text": [
            "[1, 3, 5, 0]\n"
          ]
        }
      ]
    },
    {
      "cell_type": "markdown",
      "source": [
        "Explanation:\n",
        "This code defines a function called filter_negative_numbers that takes a list of numbers as input. It uses a list comprehension [number for number in numbers if number >= 0] to create a new list. This new list includes only the numbers from the original list that are greater than or equal to 0 (i.e., the non-negative numbers). The function then returns this new filtered list. The example usage demonstrates how to call the function with a sample list and print the resulting filtered list."
      ],
      "metadata": {
        "id": "N_00_T-B0fdI"
      }
    }
  ]
}