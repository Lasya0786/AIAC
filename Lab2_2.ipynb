{
  "nbformat": 4,
  "nbformat_minor": 0,
  "metadata": {
    "colab": {
      "provenance": [],
      "authorship_tag": "ABX9TyPT3WcHpw5U7Ki6to6fRqQc",
      "include_colab_link": true
    },
    "kernelspec": {
      "name": "python3",
      "display_name": "Python 3"
    },
    "language_info": {
      "name": "python"
    }
  },
  "cells": [
    {
      "cell_type": "markdown",
      "metadata": {
        "id": "view-in-github",
        "colab_type": "text"
      },
      "source": [
        "<a href=\"https://colab.research.google.com/github/Lasya0786/AIAC/blob/main/Lab2_2.ipynb\" target=\"_parent\"><img src=\"https://colab.research.google.com/assets/colab-badge.svg\" alt=\"Open In Colab\"/></a>"
      ]
    },
    {
      "cell_type": "markdown",
      "source": [
        "Task0: Build Python function to check the given number is prime or not\n",
        "\n",
        "prompt: Write python function to check the given number is prime or not"
      ],
      "metadata": {
        "id": "ACMjjqYrsTQK"
      }
    },
    {
      "cell_type": "code",
      "source": [
        "def is_prime(number):\n",
        "    \"\"\"\n",
        "    Checks if a given number is prime.\n",
        "\n",
        "    Args:\n",
        "        number: An integer.\n",
        "\n",
        "    Returns:\n",
        "        True if the number is prime, False otherwise.\n",
        "    \"\"\"\n",
        "    if number <= 1:\n",
        "        return False\n",
        "    for i in range(2, int(number**0.5) + 1):\n",
        "        if number % i == 0:\n",
        "            return False\n",
        "    return True\n",
        "\n",
        "# Example usage:\n",
        "print(is_prime(11))\n",
        "print(is_prime(4))"
      ],
      "metadata": {
        "colab": {
          "base_uri": "https://localhost:8080/"
        },
        "id": "tOBtHAkgsmpG",
        "outputId": "8b72b29a-0b3d-4077-e951-8ca27c6b0160"
      },
      "execution_count": 1,
      "outputs": [
        {
          "output_type": "stream",
          "name": "stdout",
          "text": [
            "True\n",
            "False\n"
          ]
        }
      ]
    },
    {
      "cell_type": "markdown",
      "source": [
        "\n",
        "for i in range(2, int(number**0.5) + 1):\n",
        "        if number % i == 0:\n",
        "            return False\n",
        "    return True\n",
        "    \n",
        "This part of the code iterates through numbers starting from 2 up to the square root of the input number. It checks if the number is divisible by any of these numbers. If it finds a divisor, it means the number is not prime, and the function returns False. If the loop finishes without finding any divisors, it means the number is prime, and the function returns True."
      ],
      "metadata": {
        "id": "bAejws8DuVkm"
      }
    },
    {
      "cell_type": "markdown",
      "source": [
        "Task1:Write a function that filters out all negative numbers from a given list\n",
        "\n",
        "Prompt: write a python code to filter all negative numbers form a list"
      ],
      "metadata": {
        "id": "Kv9iElhgzGzR"
      }
    },
    {
      "cell_type": "markdown",
      "source": [],
      "metadata": {
        "id": "hza0vqRb0Yav"
      }
    },
    {
      "cell_type": "markdown",
      "source": [],
      "metadata": {
        "id": "esQfUe5H0Do4"
      }
    },
    {
      "cell_type": "code",
      "source": [
        "def filter_negative_numbers(numbers):\n",
        "  \"\"\"\n",
        "  Filters out negative numbers from a list.\n",
        "\n",
        "  Args:\n",
        "    numbers: A list of numbers.\n",
        "\n",
        "  Returns:\n",
        "    A new list containing only the non-negative numbers from the input list.\n",
        "  \"\"\"\n",
        "  return [number for number in numbers if number >= 0]\n",
        "\n",
        "# Example usage:\n",
        "my_list = [1, -2, 3, -4, 5, 0, -6]\n",
        "filtered_list = filter_negative_numbers(my_list)\n",
        "print(filtered_list)"
      ],
      "metadata": {
        "colab": {
          "base_uri": "https://localhost:8080/"
        },
        "id": "YkKHUuj3znpG",
        "outputId": "2bfc2b7f-8177-4394-f127-8dfa5209a32d"
      },
      "execution_count": 3,
      "outputs": [
        {
          "output_type": "stream",
          "name": "stdout",
          "text": [
            "[1, 3, 5, 0]\n"
          ]
        }
      ]
    },
    {
      "cell_type": "markdown",
      "source": [
        "Explanation:\n",
        "This code defines a function called filter_negative_numbers that takes a list of numbers as input. It uses a list comprehension [number for number in numbers if number >= 0] to create a new list. This new list includes only the numbers from the original list that are greater than or equal to 0 (i.e., the non-negative numbers). The function then returns this new filtered list. The example usage demonstrates how to call the function with a sample list and print the resulting filtered list."
      ],
      "metadata": {
        "id": "N_00_T-B0fdI"
      }
    },
    {
      "cell_type": "markdown",
      "source": [
        "Task2:generate code that reads a text file and counts the frequency of each\n",
        "word.\n",
        "\n",
        "Prompt:generate a python code that reads a text file and count the frequency of each word."
      ],
      "metadata": {
        "id": "YCpC2w7w1D3C"
      }
    },
    {
      "cell_type": "code",
      "source": [
        "import re\n",
        "from collections import Counter\n",
        "\n",
        "def word_frequency(file_path):\n",
        "    \"\"\"\n",
        "    Reads a text file and counts the frequency of each word.\n",
        "\n",
        "    Args:\n",
        "        file_path: The path to the text file.\n",
        "\n",
        "    Returns:\n",
        "        A dictionary where keys are words and values are their frequencies.\n",
        "    \"\"\"\n",
        "    with open(file_path, 'r') as file:\n",
        "        text = file.read().lower()\n",
        "    words = re.findall(r'\\b\\w+\\b', text)\n",
        "    return Counter(words)\n",
        "\n",
        "# Example usage:\n",
        "# Create a dummy text file for demonstration\n",
        "with open('sample.txt', 'w') as f:\n",
        "    f.write(\"This is a sample text file. This file is for demonstration purposes.\")\n",
        "\n",
        "word_counts = word_frequency('sample.txt')\n",
        "print(word_counts)"
      ],
      "metadata": {
        "colab": {
          "base_uri": "https://localhost:8080/"
        },
        "id": "aaAH1Hr42Tw6",
        "outputId": "e047f430-31d1-4815-fa89-569cc37f0739"
      },
      "execution_count": 4,
      "outputs": [
        {
          "output_type": "stream",
          "name": "stdout",
          "text": [
            "Counter({'this': 2, 'is': 2, 'file': 2, 'a': 1, 'sample': 1, 'text': 1, 'for': 1, 'demonstration': 1, 'purposes': 1})\n"
          ]
        }
      ]
    },
    {
      "cell_type": "markdown",
      "source": [
        "Explanation:\n",
        "This code defines a function word_frequency that takes a file path as input. It opens the file, reads its content, converts it to lowercase, and then uses regular expressions (re.findall(r'\\b\\w+\\b', text)) to find all words (sequences of word characters). Finally, it uses the Counter class from the collections module to count the frequency of each word and returns a dictionary with word counts. The example usage demonstrates how to create a sample text file and then call the word_frequency function to get the word counts and print them.\n",
        "\n"
      ],
      "metadata": {
        "id": "YntndFtK3AT6"
      }
    },
    {
      "cell_type": "markdown",
      "source": [
        "Task3:Use Cursor AI to generate a Python class called Book with attributes title, author, and\n",
        "a method summary() that prints the details.\n",
        "\n",
        "Prompt:generate a python class called Book with attributes,title,author, and method summary that prints details"
      ],
      "metadata": {
        "id": "YPtv2zPI3esd"
      }
    },
    {
      "cell_type": "code",
      "source": [
        "class Book:\n",
        "    \"\"\"\n",
        "    A class to represent a book.\n",
        "\n",
        "    Attributes:\n",
        "        title (str): The title of the book.\n",
        "        author (str): The author of the book.\n",
        "    \"\"\"\n",
        "    def __init__(self, title, author):\n",
        "        \"\"\"\n",
        "        Constructs all the necessary attributes for the Book object.\n",
        "        \"\"\"\n",
        "        self.title = title\n",
        "        self.author = author\n",
        "\n",
        "    def summary(self):\n",
        "        \"\"\"\n",
        "        Prints the details of the book.\n",
        "        \"\"\"\n",
        "        print(f\"Title: {self.title}\")\n",
        "        print(f\"Author: {self.author}\")\n",
        "\n",
        "# Example usage:\n",
        "my_book = Book(\"The Hitchhiker's Guide to the Galaxy\", \"Douglas Adams\")\n",
        "my_book.summary()"
      ],
      "metadata": {
        "colab": {
          "base_uri": "https://localhost:8080/"
        },
        "id": "WGe-xpmk4jtv",
        "outputId": "7174f0d9-9d38-4704-bede-90f4063a12bc"
      },
      "execution_count": 5,
      "outputs": [
        {
          "output_type": "stream",
          "name": "stdout",
          "text": [
            "Title: The Hitchhiker's Guide to the Galaxy\n",
            "Author: Douglas Adams\n"
          ]
        }
      ]
    },
    {
      "cell_type": "markdown",
      "source": [
        "Explanation:\n",
        "This code defines a Python class named Book.\n",
        "\n",
        "The __init__ method is the constructor. It's called when you create a new Book object and initializes the title and author attributes.\n",
        "The summary method prints the title and author of the book.\n",
        "The example usage creates an instance of the Book class called my_book and then calls the summary() method on that object.\n"
      ],
      "metadata": {
        "id": "K1oGOzCR5CRQ"
      }
    }
  ]
}